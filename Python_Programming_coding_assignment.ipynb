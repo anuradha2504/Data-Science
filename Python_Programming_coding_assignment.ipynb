{
  "nbformat": 4,
  "nbformat_minor": 0,
  "metadata": {
    "colab": {
      "provenance": [],
      "authorship_tag": "ABX9TyOnS1DjHj/c0P8tW6Tdd9HF",
      "include_colab_link": true
    },
    "kernelspec": {
      "name": "python3",
      "display_name": "Python 3"
    },
    "language_info": {
      "name": "python"
    }
  },
  "cells": [
    {
      "cell_type": "markdown",
      "metadata": {
        "id": "view-in-github",
        "colab_type": "text"
      },
      "source": [
        "<a href=\"https://colab.research.google.com/github/anuradha2504/Data-Science/blob/main/Python_Programming_coding_assignment.ipynb\" target=\"_parent\"><img src=\"https://colab.research.google.com/assets/colab-badge.svg\" alt=\"Open In Colab\"/></a>"
      ]
    },
    {
      "cell_type": "markdown",
      "source": [
        "**Q1. Count Even and Odd Numbers**\n",
        "\n",
        "Objective: Use loops and conditional statements with lists.\n",
        " Problem: Write a Python program that takes a list of numbers and counts how many are even and how many are odd.\n"
      ],
      "metadata": {
        "id": "nxykvR95uOXX"
      }
    },
    {
      "cell_type": "code",
      "execution_count": 1,
      "metadata": {
        "colab": {
          "base_uri": "https://localhost:8080/"
        },
        "id": "GO50V_OktF03",
        "outputId": "c3346b7b-f85b-4462-9b30-b8c1fc76a832"
      },
      "outputs": [
        {
          "output_type": "stream",
          "name": "stdout",
          "text": [
            "List of numbers: [10, 15, 23, 42, 56, 77, 88, 91, 100]\n",
            "Count of Even numbers: 5\n",
            "Count of Odd numbers: 4\n"
          ]
        }
      ],
      "source": [
        "# Q1: Count Even and Odd Numbers\n",
        "\n",
        "# Input: list of numbers\n",
        "numbers = [10, 15, 23, 42, 56, 77, 88, 91, 100]\n",
        "\n",
        "# Initialize counters\n",
        "even_count = 0\n",
        "odd_count = 0\n",
        "\n",
        "# Loop through the list\n",
        "for num in numbers:\n",
        "    if num % 2 == 0:\n",
        "        even_count += 1\n",
        "    else:\n",
        "        odd_count += 1\n",
        "\n",
        "# Output results\n",
        "print(\"List of numbers:\", numbers)\n",
        "print(\"Count of Even numbers:\", even_count)\n",
        "print(\"Count of Odd numbers:\", odd_count)"
      ]
    },
    {
      "cell_type": "markdown",
      "source": [
        "**Q2. Check Membership in Set**\n",
        "\n",
        "Objective: Learn basic set operations and conditional checking.\n",
        " Problem: Create a set of fruits. Ask the user to input a fruit name and check whether it exists in the set or not."
      ],
      "metadata": {
        "id": "P3Yrl9CGuyPg"
      }
    },
    {
      "cell_type": "code",
      "source": [
        "# Q2: Check Membership in Set\n",
        "\n",
        "# Create a set of fruits\n",
        "fruits = {\"apple\", \"banana\", \"orange\", \"mango\", \"grape\"}\n",
        "\n",
        "# Ask user for input\n",
        "user_input = input(\"Enter a fruit name: \").lower()\n",
        "\n",
        "# Check membership\n",
        "if user_input in fruits:\n",
        "    print(f\"Yes, '{user_input}' is in the set of fruits.\")\n",
        "else:\n",
        "    print(f\"No, '{user_input}' is NOT in the set of fruits.\")"
      ],
      "metadata": {
        "colab": {
          "base_uri": "https://localhost:8080/"
        },
        "id": "FPqnAg_BvI8k",
        "outputId": "ca063309-2d73-458a-856a-e2c8cf88b5e9"
      },
      "execution_count": 2,
      "outputs": [
        {
          "output_type": "stream",
          "name": "stdout",
          "text": [
            "Enter a fruit name: lichi\n",
            "No, 'lichi' is NOT in the set of fruits.\n"
          ]
        }
      ]
    },
    {
      "cell_type": "markdown",
      "source": [
        "**Q3. Tuple Unpacking**\n",
        "\n",
        "Objective: Practice accessing tuple elements.\n",
        " Problem: Given a tuple of three integers, unpack them into separate variables and print their values.\n"
      ],
      "metadata": {
        "id": "75aiwDLexOW_"
      }
    },
    {
      "cell_type": "code",
      "source": [
        "# Q3: Tuple Unpacking\n",
        "\n",
        "# Given a tuple of three integers\n",
        "numbers = (5, 10, 15)\n",
        "\n",
        "# Unpack the tuple into separate variables\n",
        "x, y, z = numbers\n",
        "\n",
        "# Print the values\n",
        "print(\"First number:\", x)\n",
        "print(\"Second number:\", y)\n",
        "print(\"Third number:\", z)"
      ],
      "metadata": {
        "colab": {
          "base_uri": "https://localhost:8080/"
        },
        "id": "80E7swfQxNn3",
        "outputId": "5cd8e6e1-f63c-4448-fde3-8f0980837374"
      },
      "execution_count": 3,
      "outputs": [
        {
          "output_type": "stream",
          "name": "stdout",
          "text": [
            "First number: 5\n",
            "Second number: 10\n",
            "Third number: 15\n"
          ]
        }
      ]
    },
    {
      "cell_type": "markdown",
      "source": [
        "**Q4. Find the Maximum Element**\n",
        "\n",
        "Objective: Use for loop and conditionals.\n",
        " Problem: Write a Python program to find the maximum number in a given list without using the max() function.\n"
      ],
      "metadata": {
        "id": "Ap34yHBUxmsY"
      }
    },
    {
      "cell_type": "code",
      "source": [
        "# Q4: Find the Maximum Element\n",
        "\n",
        "# Sample list of numbers\n",
        "numbers = [25, 47, 89, 12, 56, 92, 33]\n",
        "\n",
        "# Assume the first element is the maximum\n",
        "max_num = numbers[0]\n",
        "\n",
        "# Loop through the list\n",
        "for num in numbers:\n",
        "    if num > max_num:\n",
        "        max_num = num\n",
        "\n",
        "# Print result\n",
        "print(\"List of numbers:\", numbers)\n",
        "print(\"Maximum number is:\", max_num)"
      ],
      "metadata": {
        "colab": {
          "base_uri": "https://localhost:8080/"
        },
        "id": "dsdzLnamxvyM",
        "outputId": "a673bc83-c3b8-4882-e4c8-af78572aeedb"
      },
      "execution_count": 4,
      "outputs": [
        {
          "output_type": "stream",
          "name": "stdout",
          "text": [
            "List of numbers: [25, 47, 89, 12, 56, 92, 33]\n",
            "Maximum number is: 92\n"
          ]
        }
      ]
    },
    {
      "cell_type": "markdown",
      "source": [
        "**Q5. Student Gradebook (Dictionary Operations)**\n",
        "\n",
        "Objective: Use dictionaries for storing and updating key-value pairs.\n",
        " Problem: Create a dictionary where keys are student names and values are their marks. Add 3 students, then update marks for one student and print the final dictionary.\n"
      ],
      "metadata": {
        "id": "8QAqii1py2C-"
      }
    },
    {
      "cell_type": "code",
      "source": [
        "# Q5: Student Gradebook (Dictionary Operations)\n",
        "\n",
        "# Create a dictionary with student names and marks\n",
        "gradebook = {\n",
        "    \"Anu\": 85,\n",
        "    \"Bren\": 78,\n",
        "    \"Jiya\": 92\n",
        "}\n",
        "\n",
        "print(\"Initial Gradebook:\", gradebook)\n",
        "\n",
        "# Update marks for one student\n",
        "gradebook[\"Bren\"] = 88  # updating Bren's marks\n",
        "\n",
        "# Print the final dictionary\n",
        "print(\"Final Gradebook after update:\", gradebook)"
      ],
      "metadata": {
        "colab": {
          "base_uri": "https://localhost:8080/"
        },
        "id": "BHwtnuc4x6Kc",
        "outputId": "096f91c8-5ca8-4c0f-cc94-1a4e52e29a2f"
      },
      "execution_count": 10,
      "outputs": [
        {
          "output_type": "stream",
          "name": "stdout",
          "text": [
            "Initial Gradebook: {'Anu': 85, 'Bren': 78, 'Jiya': 92}\n",
            "Final Gradebook after update: {'Anu': 85, 'Bren': 88, 'Jiya': 92}\n"
          ]
        }
      ]
    },
    {
      "cell_type": "markdown",
      "source": [
        "**Q6. Remove Duplicates from a List Using Set**\n",
        "\n",
        "Objective: Use sets to eliminate duplicates.\n",
        " Problem: Write a program that removes duplicate elements from a list using set operations, then returns a list of unique items."
      ],
      "metadata": {
        "id": "TdlBrl_PzXMG"
      }
    },
    {
      "cell_type": "code",
      "source": [
        "#Q6: Remove Duplicates from a List Using Set\n",
        "\n",
        "# Sample list with duplicates\n",
        "numbers = [1, 2, 3, 2, 4, 5, 1, 6, 3, 7]\n",
        "\n",
        "# Remove duplicates by converting list to set, then back to list\n",
        "unique_numbers = list(set(numbers))\n",
        "\n",
        "# Print results\n",
        "print(\"Original list:\", numbers)\n",
        "print(\"List after removing duplicates:\", unique_numbers)"
      ],
      "metadata": {
        "colab": {
          "base_uri": "https://localhost:8080/"
        },
        "id": "quxInbcCza9p",
        "outputId": "6a4f322b-49de-4df2-8d88-61101c0f4c51"
      },
      "execution_count": 12,
      "outputs": [
        {
          "output_type": "stream",
          "name": "stdout",
          "text": [
            "Original list: [1, 2, 3, 2, 4, 5, 1, 6, 3, 7]\n",
            "List after removing duplicates: [1, 2, 3, 4, 5, 6, 7]\n"
          ]
        }
      ]
    },
    {
      "cell_type": "markdown",
      "source": [
        "**Q7. Sum of List Until Negative Number**\n",
        "\n",
        "Objective: Use loops and break statements.\n",
        " Problem: Write a Python program to input numbers into a list. Stop taking input when a negative number is entered and print the sum of all positive numbers entered so far."
      ],
      "metadata": {
        "id": "7O2pQe6xzvhj"
      }
    },
    {
      "cell_type": "code",
      "source": [
        "# Q7: Sum of List Until Negative Number\n",
        "\n",
        "# Initialize an empty list and sum variable\n",
        "numbers = []\n",
        "total = 0\n",
        "\n",
        "while True:\n",
        "    num = int(input(\"Enter a number (negative to stop): \"))\n",
        "\n",
        "    if num < 0:\n",
        "        break  # stop taking input if negative number is entered\n",
        "\n",
        "    numbers.append(num)\n",
        "    total += num\n",
        "\n",
        "# Print the results\n",
        "print(\"Numbers entered:\", numbers)\n",
        "print(\"Sum of positive numbers:\", total)"
      ],
      "metadata": {
        "colab": {
          "base_uri": "https://localhost:8080/"
        },
        "id": "qohg5U4tzu-v",
        "outputId": "419ca605-805c-4f85-9927-af3624ba768d"
      },
      "execution_count": 13,
      "outputs": [
        {
          "output_type": "stream",
          "name": "stdout",
          "text": [
            "Enter a number (negative to stop): 1\n",
            "Enter a number (negative to stop): 8\n",
            "Enter a number (negative to stop): 9\n",
            "Enter a number (negative to stop): 0\n",
            "Enter a number (negative to stop): -7\n",
            "Numbers entered: [1, 8, 9, 0]\n",
            "Sum of positive numbers: 18\n"
          ]
        }
      ]
    },
    {
      "cell_type": "markdown",
      "source": [
        "**Q8. Character Frequency Counter**\n",
        "\n",
        "Objective: Practice dictionary and loops.\n",
        " Problem: Write a Python program to count and display the frequency of each character in a given string using a dictionary."
      ],
      "metadata": {
        "id": "2vpgb1xU0Z8a"
      }
    },
    {
      "cell_type": "code",
      "source": [
        "# Q8: Character Frequency Counter\n",
        "\n",
        "# Input string\n",
        "text = \"We are here to learn?\"\n",
        "\n",
        "# Initialize an empty dictionary\n",
        "char_freq = {}\n",
        "\n",
        "# Loop through each character in the string\n",
        "for char in text:\n",
        "    if char in char_freq:\n",
        "        char_freq[char] += 1  # increment count if already exists\n",
        "    else:\n",
        "        char_freq[char] = 1   # initialize count if not exists\n",
        "\n",
        "# Print the character frequencies\n",
        "print(\"Character frequencies in the string:\")\n",
        "for char, freq in char_freq.items():\n",
        "    print(f\"'{char}': {freq}\")"
      ],
      "metadata": {
        "colab": {
          "base_uri": "https://localhost:8080/"
        },
        "id": "zxJ4fjxY0iC5",
        "outputId": "1e656586-2633-4496-a467-ce5df1180ac7"
      },
      "execution_count": 15,
      "outputs": [
        {
          "output_type": "stream",
          "name": "stdout",
          "text": [
            "Character frequencies in the string:\n",
            "'W': 1\n",
            "'e': 5\n",
            "' ': 4\n",
            "'a': 2\n",
            "'r': 3\n",
            "'h': 1\n",
            "'t': 1\n",
            "'o': 1\n",
            "'l': 1\n",
            "'n': 1\n",
            "'?': 1\n"
          ]
        }
      ]
    },
    {
      "cell_type": "markdown",
      "source": [
        "**Q9. Nested Conditional: Eligibility Checker**\n",
        "\n",
        "Objective: Use nested if-else conditions and user input.\n",
        " Problem: Ask the user for their age and citizenship status. If the age is over 18 and citizenship is 'Yes', print \"Eligible to Vote\". Else, print the appropriate reason for ineligibility.\n"
      ],
      "metadata": {
        "id": "5exdzuq31JPW"
      }
    },
    {
      "cell_type": "code",
      "source": [
        "# Q9: Eligibility Checker\n",
        "\n",
        "# Take user input\n",
        "age = int(input(\"Enter your age: \"))\n",
        "citizenship = input(\"Are you a citizen? (Yes/No): \").strip().lower()\n",
        "\n",
        "# Nested if-else to check eligibility\n",
        "if age >= 18:\n",
        "    if citizenship == 'yes':\n",
        "        print(\"Eligible to Vote\")\n",
        "    else:\n",
        "        print(\"Not eligible: You are not a citizen\")\n",
        "else:\n",
        "    print(\"Not eligible: You are under 18 years old\")"
      ],
      "metadata": {
        "colab": {
          "base_uri": "https://localhost:8080/"
        },
        "id": "Gj3VaCtq1Lis",
        "outputId": "e77846a8-a4f2-4721-a2dc-933d0b0935d0"
      },
      "execution_count": 16,
      "outputs": [
        {
          "output_type": "stream",
          "name": "stdout",
          "text": [
            "Enter your age: 23\n",
            "Are you a citizen? (Yes/No): yes\n",
            "Eligible to Vote\n"
          ]
        }
      ]
    },
    {
      "cell_type": "markdown",
      "source": [
        "**Q10. Fibonacci Series using While Loop**\n",
        "\n",
        "Objective: Use loops and logic-based iteration.\n",
        " Problem: Write a Python program using a while loop to generate and print the Fibonacci series up to n terms (where n is user input). Stop if the number exceeds 1000."
      ],
      "metadata": {
        "id": "bzqAyAY11ifm"
      }
    },
    {
      "cell_type": "code",
      "source": [
        "# Q10: Fibonacci Series using While Loop\n",
        "\n",
        "# User input for number of terms\n",
        "n = int(input(\"Enter the number of terms for Fibonacci series: \"))\n",
        "\n",
        "# Initialize first two terms\n",
        "a, b = 0, 1\n",
        "count = 0\n",
        "\n",
        "print(\"Fibonacci Series:\")\n",
        "\n",
        "while count < n and a <= 1000:\n",
        "    print(a, end=\" \")\n",
        "    # Compute next term\n",
        "    a, b = b, a + b\n",
        "    count += 1\n",
        "\n",
        "print()  # for newline"
      ],
      "metadata": {
        "colab": {
          "base_uri": "https://localhost:8080/"
        },
        "id": "Pvekc3FY1qM4",
        "outputId": "4dc50076-85b8-42a0-bcf7-2ef79b37707f"
      },
      "execution_count": 17,
      "outputs": [
        {
          "output_type": "stream",
          "name": "stdout",
          "text": [
            "Enter the number of terms for Fibonacci series: 67\n",
            "Fibonacci Series:\n",
            "0 1 1 2 3 5 8 13 21 34 55 89 144 233 377 610 987 \n"
          ]
        }
      ]
    }
  ]
}