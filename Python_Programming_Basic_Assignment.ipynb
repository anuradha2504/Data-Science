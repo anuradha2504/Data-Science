{
  "cells": [
    {
      "cell_type": "markdown",
      "metadata": {
        "id": "view-in-github",
        "colab_type": "text"
      },
      "source": [
        "<a href=\"https://colab.research.google.com/github/anuradha2504/Data-Science/blob/main/Python_Programming_Basic_Assignment.ipynb\" target=\"_parent\"><img src=\"https://colab.research.google.com/assets/colab-badge.svg\" alt=\"Open In Colab\"/></a>"
      ]
    },
    {
      "cell_type": "code",
      "execution_count": null,
      "id": "3f8e807f-66a1-4703-b153-18b4e6b94fe9",
      "metadata": {
        "id": "3f8e807f-66a1-4703-b153-18b4e6b94fe9",
        "outputId": "d979724d-c912-46ac-c0e5-67cb3220a542"
      },
      "outputs": [
        {
          "data": {
            "text/plain": [
              "\"'\\n1. Setup and Basic Operations:\\n● Install and set up Python.\\n● Use print() and input() functions.\\n● Assign values to variables and explore different data types.\\n\""
            ]
          },
          "execution_count": 1,
          "metadata": {},
          "output_type": "execute_result"
        }
      ],
      "source": [
        "''''\n",
        "1. Setup and Basic Operations:\n",
        "● Install and set up Python.\n",
        "● Use print() and input() functions.\n",
        "● Assign values to variables and explore different data types.\n",
        "'''"
      ]
    },
    {
      "cell_type": "code",
      "execution_count": null,
      "id": "efe9f296-06fc-4090-98c1-dd2e6aa96167",
      "metadata": {
        "id": "efe9f296-06fc-4090-98c1-dd2e6aa96167",
        "outputId": "8bec8774-b46d-4cb3-b4e8-2c8b036737f7"
      },
      "outputs": [
        {
          "name": "stdout",
          "output_type": "stream",
          "text": [
            "hello world\n",
            "Hello world\n",
            "Anu's address :\n"
          ]
        }
      ],
      "source": [
        "# a\n",
        "print('hello world')\n",
        "print(\"Hello world\")\n",
        "print(\"Anu's address :\")"
      ]
    },
    {
      "cell_type": "code",
      "execution_count": null,
      "id": "4b7e6c02-4439-4401-afce-26f843232567",
      "metadata": {
        "id": "4b7e6c02-4439-4401-afce-26f843232567",
        "outputId": "2d6df0d8-8f02-4cdc-f5a3-fcf1450db7cd"
      },
      "outputs": [
        {
          "name": "stdout",
          "output_type": "stream",
          "text": [
            "5\n",
            "<class 'int'>\n",
            "4.5\n",
            "<class 'float'>\n",
            "Hi\n",
            "<class 'str'>\n",
            "False\n",
            "<class 'bool'>\n"
          ]
        }
      ],
      "source": [
        "#assign values to variable for differnt data type\n",
        "a=5\n",
        "print(a)\n",
        "print(type(a))\n",
        "b=4.5\n",
        "print(b)\n",
        "print(type(b))\n",
        "c=\"Hi\"\n",
        "print(c)\n",
        "print(type(c))\n",
        "is_spam = False\n",
        "print(is_spam)\n",
        "print(type(is_spam))"
      ]
    },
    {
      "cell_type": "code",
      "execution_count": null,
      "id": "c20af7c8-2915-4c3a-b552-cf0361f3ca5a",
      "metadata": {
        "id": "c20af7c8-2915-4c3a-b552-cf0361f3ca5a",
        "outputId": "53eb35f3-b034-4b2f-9315-c1dfa6c32aef"
      },
      "outputs": [
        {
          "ename": "SyntaxError",
          "evalue": "unterminated string literal (detected at line 5) (1307257475.py, line 5)",
          "output_type": "error",
          "traceback": [
            "\u001b[1;36m  Cell \u001b[1;32mIn[4], line 5\u001b[1;36m\u001b[0m\n\u001b[1;33m    ''''\u001b[0m\n\u001b[1;37m       ^\u001b[0m\n\u001b[1;31mSyntaxError\u001b[0m\u001b[1;31m:\u001b[0m unterminated string literal (detected at line 5)\n"
          ]
        }
      ],
      "source": [
        "''''\n",
        "2.List Operations:\n",
        "Create a list and perform basic operations like append(), remove(), pop(), and slicing.\n",
        "Iterate over a list using loops.\n",
        "''''\n"
      ]
    },
    {
      "cell_type": "code",
      "execution_count": null,
      "id": "81ff3ee0-a341-4738-92b9-e7b0e3d1f0c6",
      "metadata": {
        "id": "81ff3ee0-a341-4738-92b9-e7b0e3d1f0c6"
      },
      "outputs": [],
      "source": [
        "#creating a list\n",
        "ls = [1,2.0,False,'hello']\n",
        "print(ls)\n",
        "print(type(ls))\n",
        "\n",
        "#creating a list with list function\n",
        "\n",
        "ls1 = list([1,1,2.0,False,'hello world'])\n",
        "print(ls1)\n",
        "print(type(ls1))"
      ]
    },
    {
      "cell_type": "code",
      "execution_count": null,
      "id": "a14cdf3e-042b-42a5-911d-19fe80aeb1d4",
      "metadata": {
        "id": "a14cdf3e-042b-42a5-911d-19fe80aeb1d4"
      },
      "outputs": [],
      "source": [
        "#perform basic operation on list - slicing\n",
        "my_list = [1,1,5,'Hello',2.0]\n",
        "print(my_list[0])\n",
        "print(my_list[1:4])\n",
        "print(my_list[-3:-1])\n",
        "print(my_list[-3:5])\n"
      ]
    },
    {
      "cell_type": "code",
      "execution_count": null,
      "id": "1140307e-c4f7-4ec5-b2fb-9fd2c2c90c84",
      "metadata": {
        "id": "1140307e-c4f7-4ec5-b2fb-9fd2c2c90c84"
      },
      "outputs": [],
      "source": [
        "#update the list value\n",
        "a = [10,20,30,40,50]\n",
        "print('Actual value = ', a)\n",
        "a[1]=60\n",
        "print('modified value = ', a)\n"
      ]
    },
    {
      "cell_type": "code",
      "execution_count": null,
      "id": "9455bfda-c871-47e9-998f-251a7ef2310e",
      "metadata": {
        "id": "9455bfda-c871-47e9-998f-251a7ef2310e"
      },
      "outputs": [],
      "source": [
        "#append(), remove(), pop() in list\n",
        "ls=[10,20,30,40,50]\n",
        "print('actual list =' , ls)\n",
        "ls.append(5)            # added at last 1 element\n",
        "print('appended value =',ls)\n",
        "ls.extend([6,7])        #added more element at end\n",
        "print('extented value =',ls)\n",
        "ls.insert(5, 20)       #extend at perticular position\n",
        "print('extented value at index 5 =',ls)\n",
        "ls.pop()    #remove last value\n",
        "print('pop value at last without index =', ls)\n",
        "ls.pop(3)   # remove from perticular index\n",
        "print('pop value at index 3 =',ls)\n",
        "ls.remove(20)   #remove 1st existance of given value\n",
        "print('remove the value at first occurance =',ls)\n",
        "ls.clear() # remove all element\n",
        "print('remove all element =',ls)\n",
        "\n"
      ]
    },
    {
      "cell_type": "code",
      "execution_count": null,
      "id": "989123ea-cb8e-4b40-9666-786fa03bfaaf",
      "metadata": {
        "id": "989123ea-cb8e-4b40-9666-786fa03bfaaf"
      },
      "outputs": [],
      "source": [
        "#Iterate over a list using loops.\n",
        "l1 = [1,2,3,4,5,6,7]\n",
        "\n",
        "\n",
        "for i in l1:\n",
        "    print(i)\n",
        "\n",
        "l2 = ['hindi','maths','english']\n",
        "\n",
        "for i in l2:\n",
        "    print(i)\n"
      ]
    },
    {
      "cell_type": "code",
      "execution_count": null,
      "id": "65bf7b7c-9f94-4775-9766-131d046bb2eb",
      "metadata": {
        "id": "65bf7b7c-9f94-4775-9766-131d046bb2eb"
      },
      "outputs": [],
      "source": [
        "''''\n",
        "3. Tuple Operations:\n",
        "Create and access tuple elements.\n",
        "Understand the immutability of tuples.\n",
        "Use tuple unpacking.\n",
        "\n",
        "tuple - hetrogenous,immutable, allow duplicate,ordered\n",
        "tuple can be declare () or tuple()\n",
        "''''"
      ]
    },
    {
      "cell_type": "code",
      "execution_count": null,
      "id": "ded2ed56-98f0-48a7-95aa-936a87141a50",
      "metadata": {
        "id": "ded2ed56-98f0-48a7-95aa-936a87141a50"
      },
      "outputs": [],
      "source": [
        "t = (1,1,2.0,5,'hello',False)\n",
        "t1 = tuple((10,20,30,5.0))\n",
        "print(t)\n",
        "print(type(t))\n",
        "print(t1)\n",
        "print(type(t1))"
      ]
    },
    {
      "cell_type": "code",
      "execution_count": null,
      "id": "f05e7b3a-67e0-4808-a030-fc67907df181",
      "metadata": {
        "id": "f05e7b3a-67e0-4808-a030-fc67907df181"
      },
      "outputs": [],
      "source": [
        "#immutability of tuple\n",
        "ls = (1,2.0,5,'hello',False)\n",
        "ls[2] = 10\n",
        "print(ls)\n",
        "print(type(ls))\n"
      ]
    },
    {
      "cell_type": "code",
      "execution_count": null,
      "id": "a69d0539-00bb-4f54-a115-8cebfb9b65dc",
      "metadata": {
        "id": "a69d0539-00bb-4f54-a115-8cebfb9b65dc"
      },
      "outputs": [],
      "source": [
        "#Use tuple unpacking.\n",
        "my_tuple = (1, 2, 3)\n",
        "\n",
        "# Convert tuple to list for updating\n",
        "temp_list = list(my_tuple)\n",
        "temp_list[1] = 'hello'\n",
        "print(temp_list)\n",
        "my_tuple = tuple(temp_list)\n",
        "print(my_tuple)\n",
        "\n",
        "# Convert tuple to list for removing\n",
        "temp_list.remove(1)\n",
        "my_tuple = tuple(temp_list)\n",
        "print(my_tuple)\n",
        "\n"
      ]
    },
    {
      "cell_type": "code",
      "execution_count": null,
      "id": "cdcc6e69-36cb-4f4e-a0e6-61f7d6966284",
      "metadata": {
        "id": "cdcc6e69-36cb-4f4e-a0e6-61f7d6966284"
      },
      "outputs": [],
      "source": [
        "a = (1,1,5,6,7,8)\n",
        "print(a)\n",
        "print(type(a))\n",
        "print(a[0:2])"
      ]
    },
    {
      "cell_type": "code",
      "execution_count": null,
      "id": "aacc82c1-48f2-4581-b1a5-fced9b25a995",
      "metadata": {
        "id": "aacc82c1-48f2-4581-b1a5-fced9b25a995"
      },
      "outputs": [],
      "source": [
        "'''\n",
        "4. Dictionary Operations:\n",
        "Create a dictionary with key-value pairs.\n",
        "Perform operations like adding, updating, and deleting key-value pairs.\n",
        "Iterate through a dictionary using loops.\n",
        "\n",
        "'''"
      ]
    },
    {
      "cell_type": "code",
      "execution_count": null,
      "id": "18af08a4-ff18-458a-baf9-cada52420fa4",
      "metadata": {
        "id": "18af08a4-ff18-458a-baf9-cada52420fa4"
      },
      "outputs": [],
      "source": [
        "'''\n",
        "Dictionary\n",
        "hetrogenous , Mutable, Ordered , do not allowed duplicate key\n",
        "key:value mapping\n",
        "\n",
        "can be diclare as {} or dict()\n",
        "'''"
      ]
    },
    {
      "cell_type": "code",
      "execution_count": null,
      "id": "267bd89d-f846-4a00-8bfd-fec3acc00364",
      "metadata": {
        "id": "267bd89d-f846-4a00-8bfd-fec3acc00364"
      },
      "outputs": [],
      "source": [
        "# Perform operations like adding, updating, and deleting key-value pairs.\n",
        "my_dict ={'name':'Anu','Profession':'IT'}\n",
        "print(my_dict)\n",
        "my_dict['city'] ='Bangalore'\n",
        "print(my_dict)\n",
        "\n",
        "#adding new keys\n",
        "my_dict['sal'] ='10000000'\n",
        "print(my_dict)\n",
        "# Add multiple key-value pairs at once\n",
        "my_dict.update({'office': 'Delhi', 'dept': 'IT'})\n",
        "print(my_dict)\n",
        "my_dict.pop('city')\n",
        "print(my_dict)\n",
        "my_dict['city'] ='Bangalore'\n",
        "print(my_dict)\n",
        "del my_dict['sal']\n",
        "print(my_dict)\n",
        "my_dict['city'] ='Singapore'\n",
        "print(my_dict)\n",
        "my_dict.clear()\n",
        "print(my_dict)"
      ]
    },
    {
      "cell_type": "code",
      "execution_count": null,
      "id": "7ea4932c-bfe4-4e8a-9b1c-39a86e757773",
      "metadata": {
        "id": "7ea4932c-bfe4-4e8a-9b1c-39a86e757773",
        "outputId": "8fa6d33a-bedd-4f4f-89f2-87c217b05db6"
      },
      "outputs": [
        {
          "name": "stdout",
          "output_type": "stream",
          "text": [
            "{'Name': ['Abhi', 'Ajay'], 'age': {25, 20}}\n",
            "<class 'dict'>\n",
            "dict_keys(['Name', 'age'])\n",
            "dict_values([['Abhi', 'Ajay'], {25, 20}])\n"
          ]
        }
      ],
      "source": [
        "#accessing key and value of dictionary\n",
        "a = {\n",
        "    'Name' : ['Abhi', 'Ajay'],\n",
        "    'age' : {20,25}\n",
        "}\n",
        "\n",
        "print(a)\n",
        "print(type(a))\n",
        "print(a.keys())\n",
        "print(a.values())\n",
        "#Iterate through a dictionary using loops.\n",
        "\n"
      ]
    },
    {
      "cell_type": "code",
      "execution_count": null,
      "id": "18d9b00b-c1fa-43ec-b02c-fc4028394fa7",
      "metadata": {
        "id": "18d9b00b-c1fa-43ec-b02c-fc4028394fa7",
        "outputId": "41f06d2a-2e2e-444b-bc00-71f307e3c14b"
      },
      "outputs": [
        {
          "name": "stdout",
          "output_type": "stream",
          "text": [
            "['Abhi', 'Ajay']\n"
          ]
        }
      ],
      "source": [
        "#print key of dict\n",
        "a = {\n",
        "    'Name' : ['Abhi', 'Ajay'],\n",
        "    'age' : {20,25}\n",
        "}\n",
        "print(a['Name'])"
      ]
    },
    {
      "cell_type": "markdown",
      "source": [
        "''''\n",
        "5. Set Operations:\n",
        "Create a set and perform operations like union, intersection, and difference.\n",
        "Understand the uniqueness property of sets.\n",
        "\n",
        "Hetrogenous\n",
        "\n",
        "No duplicate\n",
        "Mutable\n",
        "not in order\n",
        "\n",
        "declare as {} or set()\n",
        "\n",
        "'''''*"
      ],
      "metadata": {
        "id": "MX3A7biRodoc"
      },
      "id": "MX3A7biRodoc"
    },
    {
      "cell_type": "code",
      "execution_count": null,
      "id": "6c6d4dc8-184b-47e5-acbc-1794f1703bfc",
      "metadata": {
        "id": "6c6d4dc8-184b-47e5-acbc-1794f1703bfc"
      },
      "outputs": [],
      "source": [
        "''''\n",
        "5. Set Operations:\n",
        "Create a set and perform operations like union, intersection, and difference.\n",
        "Understand the uniqueness property of sets.\n",
        "\n",
        "Hetrogenous\n",
        "No duplicate\n",
        "Mutable\n",
        "not in order\n",
        "\n",
        "declare as {} or set()\n",
        "\n",
        "'''''\n"
      ]
    },
    {
      "cell_type": "code",
      "execution_count": null,
      "id": "cf38d45a-ef1a-4b78-bad2-0ed92a0d6a45",
      "metadata": {
        "id": "cf38d45a-ef1a-4b78-bad2-0ed92a0d6a45"
      },
      "outputs": [],
      "source": [
        "s = {1,2,False,80.0}\n",
        "s1 = set((1,10,False,80.0))\n",
        "print(s)\n",
        "print(type(s))\n",
        "print(s1)\n",
        "print(type(s1))"
      ]
    },
    {
      "cell_type": "code",
      "execution_count": null,
      "id": "5446fd44-99c4-4796-ac25-0d5d2afc1b75",
      "metadata": {
        "id": "5446fd44-99c4-4796-ac25-0d5d2afc1b75"
      },
      "outputs": [],
      "source": [
        "#Understand the uniqueness property of sets.\n",
        "# duplicate value in set\n",
        "a = {1,1,3,4,4,10,20}\n",
        "print(a)\n",
        "print(type(a))\n",
        "\n",
        "'''\n",
        "Since duplicate value are not allowed set is extensively used in NLP problem.\n",
        "\n",
        "''"
      ]
    },
    {
      "cell_type": "code",
      "execution_count": null,
      "id": "232a0128-a00e-40a9-9b0f-c0412a4979f2",
      "metadata": {
        "id": "232a0128-a00e-40a9-9b0f-c0412a4979f2"
      },
      "outputs": [],
      "source": [
        "# add ,update, funxtion in set\n",
        "s = {5,6,7,8}\n",
        "s.add(10) # adding 1 value\n",
        "print('1 value dded at end',s)\n",
        "s.update([20,30]) # adding multiple value\n",
        "print('more than 1 value dded at end',s)\n",
        "s.remove(6)\n",
        "print('set after remove the value:',s)"
      ]
    },
    {
      "cell_type": "code",
      "execution_count": null,
      "id": "ad633d42-9ac7-449a-bc0d-a5a6dbcbdb18",
      "metadata": {
        "id": "ad633d42-9ac7-449a-bc0d-a5a6dbcbdb18"
      },
      "outputs": [],
      "source": [
        "s = {5,6,7,8}\n",
        "s.pop() # adding 1 value\n",
        "print('1 value dded at end',s)\n",
        "\n",
        "'''\n",
        "In pop any value can remove in case of set\n",
        "'''"
      ]
    },
    {
      "cell_type": "code",
      "execution_count": null,
      "id": "3a0f831a-59b1-4b33-96c6-5b97511431e0",
      "metadata": {
        "id": "3a0f831a-59b1-4b33-96c6-5b97511431e0"
      },
      "outputs": [],
      "source": [
        "'''\n",
        "6.Conditional Statements:\n",
        "Implement if-else conditions for decision-making.\n",
        "Use nested if-else conditions for complex logic.\n",
        "''''"
      ]
    },
    {
      "cell_type": "code",
      "execution_count": null,
      "id": "f2c6b74d-c194-4aa3-b2e0-2c493ee507fa",
      "metadata": {
        "id": "f2c6b74d-c194-4aa3-b2e0-2c493ee507fa"
      },
      "outputs": [],
      "source": [
        "#Implement if-else conditions for decision-making.\n",
        "#input number from user\n",
        "num = float(input(\"enter a number : \"))\n",
        "if num > 0:\n",
        "    print('no. is grether than 0')\n",
        "elif num < 0:\n",
        "    print('no. is -ve value')\n",
        "else:\n",
        "    print('no. is equal to  0')"
      ]
    },
    {
      "cell_type": "code",
      "execution_count": null,
      "id": "c979a346-5f94-4d93-9d86-8fbe45780ea4",
      "metadata": {
        "id": "c979a346-5f94-4d93-9d86-8fbe45780ea4",
        "outputId": "fd7adf3a-cdd8-475f-ec52-b3259c76da87"
      },
      "outputs": [
        {
          "name": "stdin",
          "output_type": "stream",
          "text": [
            "enter the 1st number : 32\n",
            "enter the 2nd number : 21\n",
            "enter the 3rd number : 10\n"
          ]
        },
        {
          "name": "stdout",
          "output_type": "stream",
          "text": [
            "The gretest no. is : 32.0\n"
          ]
        }
      ],
      "source": [
        "#Use nested if-else conditions for complex logic.\n",
        "#find the highest no. in given 3 number.\n",
        "num1 = float(input('enter the 1st number :'))\n",
        "num2 = float(input('enter the 2nd number :'))\n",
        "num3 = float(input('enter the 3rd number :'))\n",
        "\n",
        "if num1 > num2 and num1 > num3:\n",
        "    print('The gretest no. is :', num1)\n",
        "elif num2 > num1 and num2 > num3:\n",
        "    print('the gretest no. is',num2)\n",
        "else:\n",
        "    print('the gretest no. is' , num3)"
      ]
    },
    {
      "cell_type": "markdown",
      "source": [
        "'''\n",
        "7.Looping Constructs:\n",
        "Use for loops to iterate over lists, tuples, and dictionaries.\n",
        "Use while loops for repeating tasks.\n",
        "Implement break and continue statements to control loops. **bold text**\n",
        "\n",
        "'''"
      ],
      "metadata": {
        "id": "cBda_yBxpPjf"
      },
      "id": "cBda_yBxpPjf"
    },
    {
      "cell_type": "code",
      "execution_count": null,
      "id": "8f57efa8-d9f0-4846-8e20-dae918df4752",
      "metadata": {
        "id": "8f57efa8-d9f0-4846-8e20-dae918df4752"
      },
      "outputs": [],
      "source": [
        "'''\n",
        "7.Looping Constructs:\n",
        "Use for loops to iterate over lists, tuples, and dictionaries.\n",
        "Use while loops for repeating tasks.\n",
        "Implement break and continue statements to control loops.\n",
        "\n",
        "'''\n"
      ]
    },
    {
      "cell_type": "code",
      "execution_count": null,
      "id": "66647b0e-825c-40b6-a7ef-c5df6bb21fd1",
      "metadata": {
        "id": "66647b0e-825c-40b6-a7ef-c5df6bb21fd1",
        "outputId": "99c2cdac-270d-4937-9a35-1c491d778d0b"
      },
      "outputs": [
        {
          "name": "stdout",
          "output_type": "stream",
          "text": [
            "1\n",
            "2\n",
            "3\n",
            "4\n",
            "5\n",
            "[1, 2, 3, 4, 5]\n",
            "<class 'list'>\n"
          ]
        }
      ],
      "source": [
        "#Use for loops to iterate over lists, tuples, and dictionaries.\n",
        "my_list = [1,2,3,4,5]\n",
        "\n",
        "for i in my_list:\n",
        "    print(i)\n",
        "print(my_list)\n",
        "print(type(my_list))"
      ]
    },
    {
      "cell_type": "code",
      "execution_count": null,
      "id": "2885a24c-804a-431d-8dc9-3d7c55977cf2",
      "metadata": {
        "id": "2885a24c-804a-431d-8dc9-3d7c55977cf2",
        "outputId": "e10bb9e6-964a-4abe-dca3-095ad29808ec"
      },
      "outputs": [
        {
          "name": "stdout",
          "output_type": "stream",
          "text": [
            "1\n",
            "2\n",
            "3\n",
            "4\n",
            "5\n",
            "(1, 2, 3, 4, 5)\n",
            "<class 'tuple'>\n"
          ]
        }
      ],
      "source": [
        "my_tuple = (1,2,3,4,5)\n",
        "\n",
        "for i in my_tuple:\n",
        "    print(i)\n",
        "print(my_tuple)\n",
        "print(type(my_tuple))"
      ]
    },
    {
      "cell_type": "code",
      "execution_count": null,
      "id": "5f954edb-02be-4d5a-87b8-66f8124016f2",
      "metadata": {
        "id": "5f954edb-02be-4d5a-87b8-66f8124016f2",
        "outputId": "21ad5a6c-28f7-4fce-c4b1-1bb5d3db1a47"
      },
      "outputs": [
        {
          "name": "stdout",
          "output_type": "stream",
          "text": [
            "H\n",
            "e\n",
            "l\n",
            "l\n",
            "o\n",
            "Hello\n",
            "<class 'str'>\n"
          ]
        }
      ],
      "source": [
        "my_set = ('Hello')\n",
        "\n",
        "for char in my_set:\n",
        "    print(char)\n",
        "print(my_set)\n",
        "print(type(my_set))"
      ]
    },
    {
      "cell_type": "code",
      "execution_count": null,
      "id": "6915e4fb-f53f-40e4-8fbd-49b7be3e022d",
      "metadata": {
        "id": "6915e4fb-f53f-40e4-8fbd-49b7be3e022d",
        "outputId": "ae2f0f9d-0723-40a0-f1d0-1d8d35b7dbb1"
      },
      "outputs": [
        {
          "name": "stdout",
          "output_type": "stream",
          "text": [
            "Key values are :\n",
            "Name\n",
            "Age\n",
            "City\n",
            "values are :\n",
            "Name\n",
            "Age\n",
            "City\n",
            "Name : Anu\n",
            "Age : 30\n",
            "City : Delhi\n"
          ]
        }
      ],
      "source": [
        "my_dict = {'Name':'Anu', 'Age':30, 'City':'Delhi'}\n",
        "#iteration through key\n",
        "print('Key values are :')\n",
        "for key in my_dict:\n",
        "    print(key)\n",
        "#iteration through value\n",
        "print('values are :')\n",
        "for value in my_dict:\n",
        "    print(value)\n",
        "#iteration through key-value pair\n",
        "for key, value in my_dict.items():\n",
        "    print(key, \":\", value)"
      ]
    },
    {
      "cell_type": "code",
      "execution_count": null,
      "id": "1ac4c2a4-067b-4ddb-aabd-0dfaa69877d0",
      "metadata": {
        "id": "1ac4c2a4-067b-4ddb-aabd-0dfaa69877d0",
        "outputId": "6dbeb670-b2b9-414b-f238-1fceac42c84c"
      },
      "outputs": [
        {
          "name": "stdout",
          "output_type": "stream",
          "text": [
            "1\n",
            "2\n",
            "3\n",
            "4\n",
            "5\n"
          ]
        }
      ],
      "source": [
        "#Use while loops for repeating tasks.\n",
        "i = 1\n",
        "while i <= 5:\n",
        "    print(i)\n",
        "    i = i+1"
      ]
    },
    {
      "cell_type": "code",
      "execution_count": null,
      "id": "406342f9-b461-4e36-ae88-20ad13f836a6",
      "metadata": {
        "id": "406342f9-b461-4e36-ae88-20ad13f836a6",
        "outputId": "108f071e-8854-4347-f191-b1d3edd9d29d"
      },
      "outputs": [
        {
          "name": "stdout",
          "output_type": "stream",
          "text": [
            "10\n",
            "20\n",
            "30\n",
            "40\n",
            "5\n",
            "Single digit number found! Exit !\n"
          ]
        }
      ],
      "source": [
        "# Implement break and continue statements to control loops.\n",
        "my_list = [10,20,30,40,5,50,60]\n",
        "for i in my_list:\n",
        "    print(i)\n",
        "    if i == 5:\n",
        "        print('Single digit number found! Exit !' )\n",
        "        break # exit when single digit found"
      ]
    },
    {
      "cell_type": "code",
      "execution_count": null,
      "id": "a2231248-0bad-45c4-b45f-c9b717408ada",
      "metadata": {
        "id": "a2231248-0bad-45c4-b45f-c9b717408ada",
        "outputId": "1aa4009a-2a69-440f-9595-9f9daa137fdf"
      },
      "outputs": [
        {
          "name": "stdout",
          "output_type": "stream",
          "text": [
            "10\n",
            "20\n",
            "30\n",
            "40\n",
            "5\n"
          ]
        }
      ],
      "source": [
        "# Implement break and continue statements to control loops.\n",
        "my_list = [10,20,30,40,5,50,60]\n",
        "for num in my_list:\n",
        "    if num > 40:\n",
        "        continue  # Skip the iteration if the number is greater than 30\n",
        "    print(num)\n"
      ]
    },
    {
      "cell_type": "code",
      "execution_count": null,
      "id": "0a871fe6-13b7-4133-9f02-a506953c2ed7",
      "metadata": {
        "id": "0a871fe6-13b7-4133-9f02-a506953c2ed7"
      },
      "outputs": [],
      "source": [
        "''''\n",
        "8. Problem-SolvProblem-Solving Tasks:\n",
        "    Write a Python program to find the largest number in a list.\n",
        "    Write a Python program to count the frequency of elements in a list.\n",
        "    Create a dictionary that stores student names as keys and marks as values, then find the student with the highest marks.\n",
        "    Implement a while loop to print the Fibonacci series up to a given number.\n",
        "    Use a set to remove duplicate elements from a list.\n",
        "'''''\n",
        "\n"
      ]
    },
    {
      "cell_type": "code",
      "execution_count": 1,
      "id": "5be9ebe7-7295-46a0-a288-ca051a5fb2b9",
      "metadata": {
        "colab": {
          "base_uri": "https://localhost:8080/"
        },
        "id": "5be9ebe7-7295-46a0-a288-ca051a5fb2b9",
        "outputId": "82ad0d04-8d57-4a0a-8871-4588454a0063"
      },
      "outputs": [
        {
          "output_type": "stream",
          "name": "stdout",
          "text": [
            "larget number is : 100\n",
            "larget number is : 100\n"
          ]
        }
      ],
      "source": [
        "# Write a Python program to find the largest number in a list.\n",
        "a =[30,40,100,50,10,0]\n",
        "\n",
        "large_num = a[0]\n",
        "for i in a:\n",
        "    if i > large_num:\n",
        "        large_num = i\n",
        "print('larget number is :',large_num)\n",
        "print(f'larget number is : {large_num}')"
      ]
    },
    {
      "cell_type": "code",
      "execution_count": 2,
      "id": "9a6f5ec5-f7d3-4d8d-bb99-9d8dcbaab750",
      "metadata": {
        "id": "9a6f5ec5-f7d3-4d8d-bb99-9d8dcbaab750"
      },
      "outputs": [],
      "source": [
        "#Write a Python program to count the frequency of elements in a list.\n",
        "num = [1,2,3,2,3,4,1,5,6,7]\n",
        "\n",
        "frquency = {} # initialize ae empty dict to store fequency of no."
      ]
    },
    {
      "cell_type": "code",
      "execution_count": null,
      "id": "d289f1e8-8c5b-4faf-ac53-ad8ce8d0eab1",
      "metadata": {
        "id": "d289f1e8-8c5b-4faf-ac53-ad8ce8d0eab1",
        "outputId": "02679f46-e905-4914-d549-bc35158da191"
      },
      "outputs": [
        {
          "name": "stdout",
          "output_type": "stream",
          "text": [
            "dict_keys(['Abhi', 'Asha', 'Ram'])\n",
            "dict_values([50, 80, 100])\n",
            "Ram\n",
            "100\n",
            "highest marks got by Ram\n",
            "Marcks : 100\n"
          ]
        }
      ],
      "source": [
        "#Create a dictionary that stores student names as keys and marks as values, then find the student with the highest marks.\n",
        "students = {\n",
        "           'Abhi': 50,\n",
        "           'Asha' :80,\n",
        "           'Ram' : 100\n",
        "          }\n",
        "\n",
        "\n",
        "print(students.keys())\n",
        "print(students.values())\n",
        "\n",
        "topper = max(students, key=students.get)\n",
        "print(topper)\n",
        "max_marks = max(students.values())\n",
        "print(max_marks)\n",
        "\n",
        "print('highest marks got by' ,topper)\n",
        "print('Marcks :', students[topper])\n"
      ]
    },
    {
      "cell_type": "code",
      "execution_count": null,
      "id": "3ccd0f3b-9143-4ae2-b727-301b9e0b3592",
      "metadata": {
        "id": "3ccd0f3b-9143-4ae2-b727-301b9e0b3592",
        "outputId": "4a0d561b-5e5c-4c79-bde8-57951ecab8c9"
      },
      "outputs": [
        {
          "name": "stdout",
          "output_type": "stream",
          "text": [
            "apple | banana | cherry\n"
          ]
        }
      ],
      "source": [
        "\n",
        "print(\"apple\", \"banana\", \"cherry\", sep=\" | \")"
      ]
    },
    {
      "cell_type": "code",
      "execution_count": null,
      "id": "c5f7e61f-7ea7-4336-9e5d-958c80daf2de",
      "metadata": {
        "id": "c5f7e61f-7ea7-4336-9e5d-958c80daf2de",
        "outputId": "c9ecdac4-7426-41d7-ef58-5634d81b8c3a"
      },
      "outputs": [
        {
          "name": "stdout",
          "output_type": "stream",
          "text": [
            "Index 0: apple\n",
            "Index 1: banana\n",
            "Index 2: cherry\n",
            "Index 3: orange\n"
          ]
        }
      ],
      "source": [
        "fruits = [\"apple\", \"banana\", \"cherry\", \"orange\"]\n",
        "\n",
        "index = 0\n",
        "while index < len(fruits):\n",
        "    print(f\"Index {index}: {fruits[index]}\")\n",
        "    index += 1"
      ]
    },
    {
      "cell_type": "code",
      "execution_count": null,
      "id": "3e341db1-096b-4352-bb94-8e6f394f0b99",
      "metadata": {
        "id": "3e341db1-096b-4352-bb94-8e6f394f0b99",
        "outputId": "5b349e94-df16-4eb6-a345-8f127e0169f3"
      },
      "outputs": [
        {
          "name": "stdout",
          "output_type": "stream",
          "text": [
            "Index: 0, Key: name, Value: Alice\n",
            "Index: 1, Key: age, Value: 25\n",
            "Index: 2, Key: city, Value: New York\n"
          ]
        }
      ],
      "source": [
        "person = {\"name\": \"Alice\", \"age\": 25, \"city\": \"New York\"}\n",
        "\n",
        "for index, (key, value) in enumerate(person.items()):\n",
        "    print(f\"Index: {index}, Key: {key}, Value: {value}\")"
      ]
    },
    {
      "cell_type": "code",
      "execution_count": null,
      "id": "d8817a5e-e1f6-4a71-ba3c-bf9125bc64aa",
      "metadata": {
        "id": "d8817a5e-e1f6-4a71-ba3c-bf9125bc64aa",
        "outputId": "e8f91fca-bd6c-4a97-d2c1-40dab85f2d58"
      },
      "outputs": [
        {
          "name": "stdout",
          "output_type": "stream",
          "text": [
            "Key: name, Value: Alice\n",
            "Key: age, Value: 25\n",
            "Key: city, Value: New York\n"
          ]
        }
      ],
      "source": [
        "person = {\"name\": \"Alice\", \"age\": 25, \"city\": \"New York\"}\n",
        "\n",
        "for key, value in person.items():\n",
        "    print(f\"Key: {key}, Value: {value}\")"
      ]
    },
    {
      "cell_type": "markdown",
      "source": [
        " *** Implement a while loop to print the Fibonacci series up to a given number.***"
      ],
      "metadata": {
        "id": "mV6QhVbqqcyQ"
      },
      "id": "mV6QhVbqqcyQ"
    },
    {
      "cell_type": "code",
      "execution_count": 3,
      "id": "70d50a9a-999b-4706-85a8-de2b0e94a527",
      "metadata": {
        "colab": {
          "base_uri": "https://localhost:8080/"
        },
        "id": "70d50a9a-999b-4706-85a8-de2b0e94a527",
        "outputId": "29899f80-087e-4276-bdf5-3d54721a17a4"
      },
      "outputs": [
        {
          "output_type": "stream",
          "name": "stdout",
          "text": [
            "Enter a number: 5\n",
            "Fibonacci Series up to 5 :\n",
            "0 1 1 2 3 5 "
          ]
        }
      ],
      "source": [
        "# Input: the number up to which the Fibonacci series should be printed\n",
        "n = int(input(\"Enter a number: \"))\n",
        "\n",
        "# Initializing the first two Fibonacci numbers\n",
        "a, b = 0, 1\n",
        "\n",
        "# Printing the Fibonacci series up to 'n'\n",
        "print(\"Fibonacci Series up to\", n, \":\")\n",
        "while a <= n:\n",
        "    print(a, end=\" \")\n",
        "    a, b = b, a + b  # Update values of a and b for the next Fibonacci numbers"
      ]
    },
    {
      "cell_type": "markdown",
      "source": [
        "**Use a set to remove duplicate elements from a list.**"
      ],
      "metadata": {
        "id": "Qbda1KQlq-nq"
      },
      "id": "Qbda1KQlq-nq"
    },
    {
      "cell_type": "code",
      "source": [
        "# Original list with duplicates\n",
        "my_list = [1, 2, 3, 4, 5, 5, 6, 3, 4,7, 8, 9, 9]\n",
        "\n",
        "# Convert list to a set to remove duplicates\n",
        "unique_set = set(my_list)\n",
        "\n",
        "# Convert the set back to a list\n",
        "unique_list = list(unique_set)\n",
        "\n",
        "# Print the result\n",
        "print(\"List after removing duplicates:\", unique_list)"
      ],
      "metadata": {
        "colab": {
          "base_uri": "https://localhost:8080/"
        },
        "id": "dkjlvwMArCGc",
        "outputId": "179915a9-859c-4735-8e7d-ea154ac12c16"
      },
      "id": "dkjlvwMArCGc",
      "execution_count": 4,
      "outputs": [
        {
          "output_type": "stream",
          "name": "stdout",
          "text": [
            "List after removing duplicates: [1, 2, 3, 4, 5, 6, 7, 8, 9]\n"
          ]
        }
      ]
    }
  ],
  "metadata": {
    "kernelspec": {
      "display_name": "Python [conda env:base] *",
      "language": "python",
      "name": "conda-base-py"
    },
    "language_info": {
      "codemirror_mode": {
        "name": "ipython",
        "version": 3
      },
      "file_extension": ".py",
      "mimetype": "text/x-python",
      "name": "python",
      "nbconvert_exporter": "python",
      "pygments_lexer": "ipython3",
      "version": "3.12.7"
    },
    "colab": {
      "provenance": [],
      "include_colab_link": true
    }
  },
  "nbformat": 4,
  "nbformat_minor": 5
}